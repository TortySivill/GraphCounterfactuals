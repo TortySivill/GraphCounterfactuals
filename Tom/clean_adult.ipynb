{
 "metadata": {
  "language_info": {
   "codemirror_mode": {
    "name": "ipython",
    "version": 3
   },
   "file_extension": ".py",
   "mimetype": "text/x-python",
   "name": "python",
   "nbconvert_exporter": "python",
   "pygments_lexer": "ipython3",
   "version": "3.6.9-final"
  },
  "orig_nbformat": 2,
  "kernelspec": {
   "name": "python3",
   "display_name": "Python 3"
  }
 },
 "nbformat": 4,
 "nbformat_minor": 2,
 "cells": [
  {
   "cell_type": "markdown",
   "metadata": {},
   "source": [
    "Cleaning code from https://ryanwingate.com/projects/machine-learning-data-prep/adult/adult-cleaning/."
   ]
  },
  {
   "cell_type": "code",
   "execution_count": 64,
   "metadata": {},
   "outputs": [],
   "source": [
    "import pandas as pd\n",
    "import numpy as np"
   ]
  },
  {
   "cell_type": "code",
   "execution_count": 65,
   "metadata": {},
   "outputs": [
    {
     "output_type": "stream",
     "name": "stdout",
     "text": [
      "(48842, 15)\n"
     ]
    },
    {
     "output_type": "execute_result",
     "data": {
      "text/plain": [
       "   age         workclass  fnlwgt  education  education-num  \\\n",
       "0   39         State-gov   77516  Bachelors             13   \n",
       "1   50  Self-emp-not-inc   83311  Bachelors             13   \n",
       "2   38           Private  215646    HS-grad              9   \n",
       "3   53           Private  234721       11th              7   \n",
       "4   28           Private  338409  Bachelors             13   \n",
       "\n",
       "       marital-status         occupation   relationship   race     sex  \\\n",
       "0       Never-married       Adm-clerical  Not-in-family  White    Male   \n",
       "1  Married-civ-spouse    Exec-managerial        Husband  White    Male   \n",
       "2            Divorced  Handlers-cleaners  Not-in-family  White    Male   \n",
       "3  Married-civ-spouse  Handlers-cleaners        Husband  Black    Male   \n",
       "4  Married-civ-spouse     Prof-specialty           Wife  Black  Female   \n",
       "\n",
       "   capital-gain  capital-loss  hours-per-week native-country compensation  \n",
       "0          2174             0              40  United-States        <=50K  \n",
       "1             0             0              13  United-States        <=50K  \n",
       "2             0             0              40  United-States        <=50K  \n",
       "3             0             0              40  United-States        <=50K  \n",
       "4             0             0              40           Cuba        <=50K  "
      ],
      "text/html": "<div>\n<style scoped>\n    .dataframe tbody tr th:only-of-type {\n        vertical-align: middle;\n    }\n\n    .dataframe tbody tr th {\n        vertical-align: top;\n    }\n\n    .dataframe thead th {\n        text-align: right;\n    }\n</style>\n<table border=\"1\" class=\"dataframe\">\n  <thead>\n    <tr style=\"text-align: right;\">\n      <th></th>\n      <th>age</th>\n      <th>workclass</th>\n      <th>fnlwgt</th>\n      <th>education</th>\n      <th>education-num</th>\n      <th>marital-status</th>\n      <th>occupation</th>\n      <th>relationship</th>\n      <th>race</th>\n      <th>sex</th>\n      <th>capital-gain</th>\n      <th>capital-loss</th>\n      <th>hours-per-week</th>\n      <th>native-country</th>\n      <th>compensation</th>\n    </tr>\n  </thead>\n  <tbody>\n    <tr>\n      <th>0</th>\n      <td>39</td>\n      <td>State-gov</td>\n      <td>77516</td>\n      <td>Bachelors</td>\n      <td>13</td>\n      <td>Never-married</td>\n      <td>Adm-clerical</td>\n      <td>Not-in-family</td>\n      <td>White</td>\n      <td>Male</td>\n      <td>2174</td>\n      <td>0</td>\n      <td>40</td>\n      <td>United-States</td>\n      <td>&lt;=50K</td>\n    </tr>\n    <tr>\n      <th>1</th>\n      <td>50</td>\n      <td>Self-emp-not-inc</td>\n      <td>83311</td>\n      <td>Bachelors</td>\n      <td>13</td>\n      <td>Married-civ-spouse</td>\n      <td>Exec-managerial</td>\n      <td>Husband</td>\n      <td>White</td>\n      <td>Male</td>\n      <td>0</td>\n      <td>0</td>\n      <td>13</td>\n      <td>United-States</td>\n      <td>&lt;=50K</td>\n    </tr>\n    <tr>\n      <th>2</th>\n      <td>38</td>\n      <td>Private</td>\n      <td>215646</td>\n      <td>HS-grad</td>\n      <td>9</td>\n      <td>Divorced</td>\n      <td>Handlers-cleaners</td>\n      <td>Not-in-family</td>\n      <td>White</td>\n      <td>Male</td>\n      <td>0</td>\n      <td>0</td>\n      <td>40</td>\n      <td>United-States</td>\n      <td>&lt;=50K</td>\n    </tr>\n    <tr>\n      <th>3</th>\n      <td>53</td>\n      <td>Private</td>\n      <td>234721</td>\n      <td>11th</td>\n      <td>7</td>\n      <td>Married-civ-spouse</td>\n      <td>Handlers-cleaners</td>\n      <td>Husband</td>\n      <td>Black</td>\n      <td>Male</td>\n      <td>0</td>\n      <td>0</td>\n      <td>40</td>\n      <td>United-States</td>\n      <td>&lt;=50K</td>\n    </tr>\n    <tr>\n      <th>4</th>\n      <td>28</td>\n      <td>Private</td>\n      <td>338409</td>\n      <td>Bachelors</td>\n      <td>13</td>\n      <td>Married-civ-spouse</td>\n      <td>Prof-specialty</td>\n      <td>Wife</td>\n      <td>Black</td>\n      <td>Female</td>\n      <td>0</td>\n      <td>0</td>\n      <td>40</td>\n      <td>Cuba</td>\n      <td>&lt;=50K</td>\n    </tr>\n  </tbody>\n</table>\n</div>"
     },
     "metadata": {},
     "execution_count": 65
    }
   ],
   "source": [
    "adult_data_path = 'raw_adult/adult.data'\n",
    "adult_test_path = 'raw_adult/adult.test'\n",
    "cols = ['age','workclass','fnlwgt','education','education-num','marital-status',\n",
    "        'occupation','relationship','race','sex','capital-gain', 'capital-loss',\n",
    "        'hours-per-week', 'native-country','compensation']\n",
    "a = (pd.read_csv(adult_data_path,\n",
    "                 names=cols,\n",
    "                 sep=', ',\n",
    "                 engine='python')\n",
    "     .append(pd.read_csv(adult_test_path,\n",
    "                         skiprows=1,\n",
    "                         names=cols,\n",
    "                         sep=', ',\n",
    "                         engine='python')))\n",
    "print(a.shape)\n",
    "a.head()"
   ]
  },
  {
   "cell_type": "code",
   "execution_count": 66,
   "metadata": {},
   "outputs": [
    {
     "output_type": "execute_result",
     "data": {
      "text/plain": [
       "   age         workclass  fnlwgt              education  education-num  \\\n",
       "0   39         State-gov   77516              Bachelors             13   \n",
       "1   50  Self-emp-not-inc   83311              Bachelors             13   \n",
       "2   38           Private  215646            High School              9   \n",
       "3   53           Private  234721  Less than High School              7   \n",
       "4   28           Private  338409              Bachelors             13   \n",
       "\n",
       "       marital-status         occupation   relationship   race     sex  \\\n",
       "0       Never-married       Adm-clerical  Not-in-family  White    Male   \n",
       "1  Married-civ-spouse    Exec-managerial        Husband  White    Male   \n",
       "2            Divorced  Handlers-cleaners  Not-in-family  White    Male   \n",
       "3  Married-civ-spouse  Handlers-cleaners        Husband  Black    Male   \n",
       "4  Married-civ-spouse     Prof-specialty           Wife  Black  Female   \n",
       "\n",
       "   capital-gain  capital-loss  weekly-hours native-country compensation  idx  \\\n",
       "0          2174             0            40  United-States        <=50K    0   \n",
       "1             0             0            13  United-States        <=50K    1   \n",
       "2             0             0            40  United-States        <=50K    2   \n",
       "3             0             0            40  United-States        <=50K    3   \n",
       "4             0             0            40           Cuba        <=50K    4   \n",
       "\n",
       "      employment-type  \n",
       "0          Government  \n",
       "1       Self-Employed  \n",
       "2  Privately-Employed  \n",
       "3  Privately-Employed  \n",
       "4  Privately-Employed  "
      ],
      "text/html": "<div>\n<style scoped>\n    .dataframe tbody tr th:only-of-type {\n        vertical-align: middle;\n    }\n\n    .dataframe tbody tr th {\n        vertical-align: top;\n    }\n\n    .dataframe thead th {\n        text-align: right;\n    }\n</style>\n<table border=\"1\" class=\"dataframe\">\n  <thead>\n    <tr style=\"text-align: right;\">\n      <th></th>\n      <th>age</th>\n      <th>workclass</th>\n      <th>fnlwgt</th>\n      <th>education</th>\n      <th>education-num</th>\n      <th>marital-status</th>\n      <th>occupation</th>\n      <th>relationship</th>\n      <th>race</th>\n      <th>sex</th>\n      <th>capital-gain</th>\n      <th>capital-loss</th>\n      <th>weekly-hours</th>\n      <th>native-country</th>\n      <th>compensation</th>\n      <th>idx</th>\n      <th>employment-type</th>\n    </tr>\n  </thead>\n  <tbody>\n    <tr>\n      <th>0</th>\n      <td>39</td>\n      <td>State-gov</td>\n      <td>77516</td>\n      <td>Bachelors</td>\n      <td>13</td>\n      <td>Never-married</td>\n      <td>Adm-clerical</td>\n      <td>Not-in-family</td>\n      <td>White</td>\n      <td>Male</td>\n      <td>2174</td>\n      <td>0</td>\n      <td>40</td>\n      <td>United-States</td>\n      <td>&lt;=50K</td>\n      <td>0</td>\n      <td>Government</td>\n    </tr>\n    <tr>\n      <th>1</th>\n      <td>50</td>\n      <td>Self-emp-not-inc</td>\n      <td>83311</td>\n      <td>Bachelors</td>\n      <td>13</td>\n      <td>Married-civ-spouse</td>\n      <td>Exec-managerial</td>\n      <td>Husband</td>\n      <td>White</td>\n      <td>Male</td>\n      <td>0</td>\n      <td>0</td>\n      <td>13</td>\n      <td>United-States</td>\n      <td>&lt;=50K</td>\n      <td>1</td>\n      <td>Self-Employed</td>\n    </tr>\n    <tr>\n      <th>2</th>\n      <td>38</td>\n      <td>Private</td>\n      <td>215646</td>\n      <td>High School</td>\n      <td>9</td>\n      <td>Divorced</td>\n      <td>Handlers-cleaners</td>\n      <td>Not-in-family</td>\n      <td>White</td>\n      <td>Male</td>\n      <td>0</td>\n      <td>0</td>\n      <td>40</td>\n      <td>United-States</td>\n      <td>&lt;=50K</td>\n      <td>2</td>\n      <td>Privately-Employed</td>\n    </tr>\n    <tr>\n      <th>3</th>\n      <td>53</td>\n      <td>Private</td>\n      <td>234721</td>\n      <td>Less than High School</td>\n      <td>7</td>\n      <td>Married-civ-spouse</td>\n      <td>Handlers-cleaners</td>\n      <td>Husband</td>\n      <td>Black</td>\n      <td>Male</td>\n      <td>0</td>\n      <td>0</td>\n      <td>40</td>\n      <td>United-States</td>\n      <td>&lt;=50K</td>\n      <td>3</td>\n      <td>Privately-Employed</td>\n    </tr>\n    <tr>\n      <th>4</th>\n      <td>28</td>\n      <td>Private</td>\n      <td>338409</td>\n      <td>Bachelors</td>\n      <td>13</td>\n      <td>Married-civ-spouse</td>\n      <td>Prof-specialty</td>\n      <td>Wife</td>\n      <td>Black</td>\n      <td>Female</td>\n      <td>0</td>\n      <td>0</td>\n      <td>40</td>\n      <td>Cuba</td>\n      <td>&lt;=50K</td>\n      <td>4</td>\n      <td>Privately-Employed</td>\n    </tr>\n  </tbody>\n</table>\n</div>"
     },
     "metadata": {},
     "execution_count": 66
    }
   ],
   "source": [
    "a = a.replace({'<=50K.' : '<=50K',\n",
    "               '>50K.'  : '>50K'})\n",
    "\n",
    "# Drop entries where workclass and occupation are unknown, and where workclass is Without-pay.\n",
    "a = (a[(a['workclass']!='?')&\n",
    "       (a['occupation']!='?')&\n",
    "       (a['workclass']!='Without-pay')]\n",
    "     .reset_index(drop=True))\n",
    "a['idx'] = a.index\n",
    "\n",
    "# Map the very small Armed-Forces category of occupation to Protective-serv.\n",
    "a.loc[a['occupation']=='Armed-Forces','occupation'] = 'Protective-serv'\n",
    "\n",
    "# Map Ages, Education, Workclass, and Weekly-Hours to smaller category set.\n",
    "a.loc[a['workclass'].isin(['State-gov', 'Federal-gov', 'Local-gov']), \n",
    "      'employment-type'] = 'Government'\n",
    "a.loc[a['workclass'].isin(['Self-emp-not-inc', 'Self-emp-inc']),      \n",
    "      'employment-type'] = 'Self-Employed'\n",
    "a.loc[a['workclass'].isin(['Private']),                               \n",
    "      'employment-type'] = 'Privately-Employed'\n",
    "\n",
    "a.loc[a['education-num'] <= 8,          'education'] = 'Less than High School'\n",
    "a.loc[a['education-num'].isin([ 9,10]), 'education'] = 'High School'\n",
    "a.loc[a['education-num'].isin([11,12]), 'education'] = 'Associates'\n",
    "a.loc[a['education-num'].isin([13]),    'education'] = 'Bachelors'\n",
    "a.loc[a['education-num'].isin([14]),    'education'] = 'Masters'\n",
    "a.loc[a['education-num'].isin([15,16]), 'education'] = 'PhD/Professional'\n",
    "\n",
    "a = a.rename(columns={'hours-per-week':'weekly-hours'})\n",
    "a.head()"
   ]
  },
  {
   "cell_type": "code",
   "execution_count": 67,
   "metadata": {},
   "outputs": [
    {
     "output_type": "stream",
     "name": "stdout",
     "text": [
      "                                   idx\neducation education raw               \n0         Associates              3505\n1         Bachelors               7772\n2         High School            24991\n3         Less than High School   5768\n4         Masters                 2590\n5         PhD/Professional        1386\n               idx\nsex sex raw       \n0   Female   14912\n1   Male     31100\n                                 idx\ncompensation compensation raw       \n0            <=50K             34592\n1            >50K              11420\n(46012, 9)\n"
     ]
    }
   ],
   "source": [
    "# Convert all Categorical data to Numeric data\n",
    "a['age raw'] = a['age']\n",
    "# a['employment-type raw'] = a['employment-type']\n",
    "a['education raw'] = a['education']\n",
    "# a['occupation raw'] = a['occupation']\n",
    "# a['race raw'] = a['race']\n",
    "a['sex raw'] = a['sex']\n",
    "a['weekly-hours raw'] = a['weekly-hours']\n",
    "a['compensation raw'] = a['compensation']\n",
    "\n",
    "# a['employment-type'] = a['employment-type'].astype('category')\n",
    "# a['employment-type'] = a['employment-type'].cat.codes\n",
    "a['education'] = a['education'].astype('category')\n",
    "a['education'] = a['education'].cat.codes\n",
    "# a['occupation'] = a['occupation'].astype('category')\n",
    "# a['occupation'] = a['occupation'].cat.codes\n",
    "# a['race'] = a['race'].astype('category')\n",
    "# a['race'] = a['race'].cat.codes\n",
    "a['sex'] = a['sex'].astype('category')\n",
    "a['sex'] = a['sex'].cat.codes\n",
    "a['compensation'] = a['compensation'].astype('category')\n",
    "a['compensation'] = a['compensation'].cat.codes\n",
    "                                                 \n",
    "# print(a[['employment-type','employment-type raw','idx']].groupby(['employment-type', 'employment-type raw']).count())\n",
    "# employment_types = sorted(a['employment-type raw'].unique()); print(employment_types)\n",
    "print(a[['education','education raw','idx']].groupby(['education', 'education raw']).count())\n",
    "# print(a[['occupation','occupation raw','idx']].groupby(['occupation', 'occupation raw']).count())\n",
    "# occupations = sorted(a['occupation raw'].unique()); print(occupations)\n",
    "# print(a[['race','race raw','idx']].groupby(['race', 'race raw']).count())\n",
    "# races = sorted(a['race raw'].unique()); print(races)\n",
    "print(a[['sex','sex raw','idx']].groupby(['sex', 'sex raw']).count())\n",
    "print(a[['compensation','compensation raw','idx']].groupby(['compensation', 'compensation raw']).count())\n",
    "\n",
    "a = a[['idx',\n",
    "       'age',\n",
    "       'employment-type',\n",
    "       'education',\n",
    "       'occupation',\n",
    "       'race',\n",
    "       'sex',\n",
    "       'weekly-hours',\n",
    "       'compensation']].copy()\n",
    "print(a.shape)\n",
    "# a.head()\n"
   ]
  },
  {
   "cell_type": "code",
   "execution_count": 68,
   "metadata": {},
   "outputs": [
    {
     "output_type": "stream",
     "name": "stdout",
     "text": [
      "(46012, 9)\n(46012, 27)\n"
     ]
    },
    {
     "output_type": "execute_result",
     "data": {
      "text/plain": [
       "   idx  age  education  sex  weekly-hours  employment-type_Government  \\\n",
       "0    0   39          1    1            40                           1   \n",
       "1    1   50          1    1            13                           0   \n",
       "2    2   38          2    1            40                           0   \n",
       "3    3   53          3    1            40                           0   \n",
       "4    4   28          1    0            40                           0   \n",
       "\n",
       "   employment-type_Privately-Employed  employment-type_Self-Employed  \\\n",
       "0                                   0                              0   \n",
       "1                                   0                              1   \n",
       "2                                   1                              0   \n",
       "3                                   1                              0   \n",
       "4                                   1                              0   \n",
       "\n",
       "   occupation_Adm-clerical  occupation_Craft-repair  ...  \\\n",
       "0                        1                        0  ...   \n",
       "1                        0                        0  ...   \n",
       "2                        0                        0  ...   \n",
       "3                        0                        0  ...   \n",
       "4                        0                        0  ...   \n",
       "\n",
       "   occupation_Protective-serv  occupation_Sales  occupation_Tech-support  \\\n",
       "0                           0                 0                        0   \n",
       "1                           0                 0                        0   \n",
       "2                           0                 0                        0   \n",
       "3                           0                 0                        0   \n",
       "4                           0                 0                        0   \n",
       "\n",
       "   occupation_Transport-moving  race_Amer-Indian-Eskimo  \\\n",
       "0                            0                        0   \n",
       "1                            0                        0   \n",
       "2                            0                        0   \n",
       "3                            0                        0   \n",
       "4                            0                        0   \n",
       "\n",
       "   race_Asian-Pac-Islander  race_Black  race_Other  race_White  compensation  \n",
       "0                        0           0           0           1             0  \n",
       "1                        0           0           0           1             0  \n",
       "2                        0           0           0           1             0  \n",
       "3                        0           1           0           0             0  \n",
       "4                        0           1           0           0             0  \n",
       "\n",
       "[5 rows x 27 columns]"
      ],
      "text/html": "<div>\n<style scoped>\n    .dataframe tbody tr th:only-of-type {\n        vertical-align: middle;\n    }\n\n    .dataframe tbody tr th {\n        vertical-align: top;\n    }\n\n    .dataframe thead th {\n        text-align: right;\n    }\n</style>\n<table border=\"1\" class=\"dataframe\">\n  <thead>\n    <tr style=\"text-align: right;\">\n      <th></th>\n      <th>idx</th>\n      <th>age</th>\n      <th>education</th>\n      <th>sex</th>\n      <th>weekly-hours</th>\n      <th>employment-type_Government</th>\n      <th>employment-type_Privately-Employed</th>\n      <th>employment-type_Self-Employed</th>\n      <th>occupation_Adm-clerical</th>\n      <th>occupation_Craft-repair</th>\n      <th>...</th>\n      <th>occupation_Protective-serv</th>\n      <th>occupation_Sales</th>\n      <th>occupation_Tech-support</th>\n      <th>occupation_Transport-moving</th>\n      <th>race_Amer-Indian-Eskimo</th>\n      <th>race_Asian-Pac-Islander</th>\n      <th>race_Black</th>\n      <th>race_Other</th>\n      <th>race_White</th>\n      <th>compensation</th>\n    </tr>\n  </thead>\n  <tbody>\n    <tr>\n      <th>0</th>\n      <td>0</td>\n      <td>39</td>\n      <td>1</td>\n      <td>1</td>\n      <td>40</td>\n      <td>1</td>\n      <td>0</td>\n      <td>0</td>\n      <td>1</td>\n      <td>0</td>\n      <td>...</td>\n      <td>0</td>\n      <td>0</td>\n      <td>0</td>\n      <td>0</td>\n      <td>0</td>\n      <td>0</td>\n      <td>0</td>\n      <td>0</td>\n      <td>1</td>\n      <td>0</td>\n    </tr>\n    <tr>\n      <th>1</th>\n      <td>1</td>\n      <td>50</td>\n      <td>1</td>\n      <td>1</td>\n      <td>13</td>\n      <td>0</td>\n      <td>0</td>\n      <td>1</td>\n      <td>0</td>\n      <td>0</td>\n      <td>...</td>\n      <td>0</td>\n      <td>0</td>\n      <td>0</td>\n      <td>0</td>\n      <td>0</td>\n      <td>0</td>\n      <td>0</td>\n      <td>0</td>\n      <td>1</td>\n      <td>0</td>\n    </tr>\n    <tr>\n      <th>2</th>\n      <td>2</td>\n      <td>38</td>\n      <td>2</td>\n      <td>1</td>\n      <td>40</td>\n      <td>0</td>\n      <td>1</td>\n      <td>0</td>\n      <td>0</td>\n      <td>0</td>\n      <td>...</td>\n      <td>0</td>\n      <td>0</td>\n      <td>0</td>\n      <td>0</td>\n      <td>0</td>\n      <td>0</td>\n      <td>0</td>\n      <td>0</td>\n      <td>1</td>\n      <td>0</td>\n    </tr>\n    <tr>\n      <th>3</th>\n      <td>3</td>\n      <td>53</td>\n      <td>3</td>\n      <td>1</td>\n      <td>40</td>\n      <td>0</td>\n      <td>1</td>\n      <td>0</td>\n      <td>0</td>\n      <td>0</td>\n      <td>...</td>\n      <td>0</td>\n      <td>0</td>\n      <td>0</td>\n      <td>0</td>\n      <td>0</td>\n      <td>0</td>\n      <td>1</td>\n      <td>0</td>\n      <td>0</td>\n      <td>0</td>\n    </tr>\n    <tr>\n      <th>4</th>\n      <td>4</td>\n      <td>28</td>\n      <td>1</td>\n      <td>0</td>\n      <td>40</td>\n      <td>0</td>\n      <td>1</td>\n      <td>0</td>\n      <td>0</td>\n      <td>0</td>\n      <td>...</td>\n      <td>0</td>\n      <td>0</td>\n      <td>0</td>\n      <td>0</td>\n      <td>0</td>\n      <td>0</td>\n      <td>1</td>\n      <td>0</td>\n      <td>0</td>\n      <td>0</td>\n    </tr>\n  </tbody>\n</table>\n<p>5 rows × 27 columns</p>\n</div>"
     },
     "metadata": {},
     "execution_count": 68
    }
   ],
   "source": [
    "# One-hot encoding of categorical variables.\n",
    "print(a.shape)\n",
    "a = pd.get_dummies(a, columns=['employment-type', 'occupation', 'race'], drop_first=False)\n",
    "# Move compensation to the end.\n",
    "_c = a.pop('compensation') # remove column b and store it in df1\n",
    "a['compensation'] = _c\n",
    "\n",
    "print(a.shape)\n",
    "a.head()"
   ]
  },
  {
   "cell_type": "code",
   "execution_count": 69,
   "metadata": {},
   "outputs": [],
   "source": [
    "a.to_csv('adult.csv', index=False)"
   ]
  },
  {
   "cell_type": "markdown",
   "metadata": {},
   "source": [
    "---\n",
    "### Don't do this one."
   ]
  },
  {
   "cell_type": "code",
   "execution_count": 5,
   "metadata": {},
   "outputs": [
    {
     "output_type": "stream",
     "name": "stdout",
     "text": [
      "   Mean Age = 38.55261670868469\nStd Dev Age = 13.199319129893762\n   Mean Weekly-Hours = 40.95159958271755\nStd Dev Weekly-Hours = 12.00779742417576\n"
     ]
    },
    {
     "output_type": "execute_result",
     "data": {
      "text/plain": [
       "   idx       age  employment-type  education  occupation  race     sex  \\\n",
       "0    0  0.033894                0          1           0     4    Male   \n",
       "1    1  0.867271                2          1           2     4    Male   \n",
       "2    2 -0.041867                1          2           4     4    Male   \n",
       "3    3  1.094555                1          3           4     2    Male   \n",
       "4    4 -0.799482                1          1           8     2  Female   \n",
       "\n",
       "   weekly-hours  compensation  \n",
       "0     -0.079248             0  \n",
       "1     -2.327787             0  \n",
       "2     -0.079248             0  \n",
       "3     -0.079248             0  \n",
       "4     -0.079248             0  "
      ],
      "text/html": "<div>\n<style scoped>\n    .dataframe tbody tr th:only-of-type {\n        vertical-align: middle;\n    }\n\n    .dataframe tbody tr th {\n        vertical-align: top;\n    }\n\n    .dataframe thead th {\n        text-align: right;\n    }\n</style>\n<table border=\"1\" class=\"dataframe\">\n  <thead>\n    <tr style=\"text-align: right;\">\n      <th></th>\n      <th>idx</th>\n      <th>age</th>\n      <th>employment-type</th>\n      <th>education</th>\n      <th>occupation</th>\n      <th>race</th>\n      <th>sex</th>\n      <th>weekly-hours</th>\n      <th>compensation</th>\n    </tr>\n  </thead>\n  <tbody>\n    <tr>\n      <th>0</th>\n      <td>0</td>\n      <td>0.033894</td>\n      <td>0</td>\n      <td>1</td>\n      <td>0</td>\n      <td>4</td>\n      <td>Male</td>\n      <td>-0.079248</td>\n      <td>0</td>\n    </tr>\n    <tr>\n      <th>1</th>\n      <td>1</td>\n      <td>0.867271</td>\n      <td>2</td>\n      <td>1</td>\n      <td>2</td>\n      <td>4</td>\n      <td>Male</td>\n      <td>-2.327787</td>\n      <td>0</td>\n    </tr>\n    <tr>\n      <th>2</th>\n      <td>2</td>\n      <td>-0.041867</td>\n      <td>1</td>\n      <td>2</td>\n      <td>4</td>\n      <td>4</td>\n      <td>Male</td>\n      <td>-0.079248</td>\n      <td>0</td>\n    </tr>\n    <tr>\n      <th>3</th>\n      <td>3</td>\n      <td>1.094555</td>\n      <td>1</td>\n      <td>3</td>\n      <td>4</td>\n      <td>2</td>\n      <td>Male</td>\n      <td>-0.079248</td>\n      <td>0</td>\n    </tr>\n    <tr>\n      <th>4</th>\n      <td>4</td>\n      <td>-0.799482</td>\n      <td>1</td>\n      <td>1</td>\n      <td>8</td>\n      <td>2</td>\n      <td>Female</td>\n      <td>-0.079248</td>\n      <td>0</td>\n    </tr>\n  </tbody>\n</table>\n</div>"
     },
     "metadata": {},
     "execution_count": 5
    }
   ],
   "source": [
    "# Normalize Continuous Data.\n",
    "print('   Mean Age = ' + str(a['age'].mean()))\n",
    "print('Std Dev Age = ' + str(a['age'].std()))\n",
    "a['age'] = (a['age'] - a['age'].mean()) / a['age'].std()\n",
    "\n",
    "print('   Mean Weekly-Hours = ' + str(a['weekly-hours'].mean()))\n",
    "print('Std Dev Weekly-Hours = ' + str(a['weekly-hours'].std()))\n",
    "a['weekly-hours'] = (a['weekly-hours'] - a['weekly-hours'].mean()) / a['weekly-hours'].std()\n",
    "a.head()\n"
   ]
  },
  {
   "cell_type": "code",
   "execution_count": null,
   "metadata": {},
   "outputs": [],
   "source": []
  }
 ]
}