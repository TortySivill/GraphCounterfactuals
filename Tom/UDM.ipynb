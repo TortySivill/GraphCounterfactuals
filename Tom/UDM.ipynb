{
 "metadata": {
  "language_info": {
   "codemirror_mode": {
    "name": "ipython",
    "version": 3
   },
   "file_extension": ".py",
   "mimetype": "text/x-python",
   "name": "python",
   "nbconvert_exporter": "python",
   "pygments_lexer": "ipython3",
   "version": "3.6.9"
  },
  "orig_nbformat": 2,
  "kernelspec": {
   "name": "python3",
   "display_name": "Python 3.6.9 64-bit"
  }
 },
 "nbformat": 4,
 "nbformat_minor": 2,
 "cells": [
  {
   "cell_type": "markdown",
   "metadata": {},
   "source": [
    "Implementation of Unified Distance Metric\n",
    "\n",
    "*Zhang, Yiqun, and Yiu-Ming Cheung. \"A New Distance Metric Exploiting Heterogeneous Interattribute Relationship for Ordinal-and-Nominal-Attribute Data Clustering.\" IEEE transactions on cybernetics (2020).*"
   ]
  },
  {
   "cell_type": "code",
   "execution_count": 1,
   "metadata": {},
   "outputs": [],
   "source": [
    "import pandas as pd\n",
    "import numpy as np"
   ]
  },
  {
   "cell_type": "code",
   "execution_count": 22,
   "metadata": {},
   "outputs": [
    {
     "output_type": "execute_result",
     "data": {
      "text/plain": [
       "(array([[0, 0, 0],\n",
       "        [0, 1, 1],\n",
       "        [1, 1, 2],\n",
       "        [2, 2, 1],\n",
       "        [2, 2, 0]]),\n",
       " [True, True, False],\n",
       " [3, 3, 3],\n",
       " 3)"
      ]
     },
     "metadata": {},
     "execution_count": 22
    }
   ],
   "source": [
    "df = pd.read_csv(\"table3.csv\")\n",
    "X = df.values\n",
    "ordinal = [\"O\" in c for c in df.columns]\n",
    "N, d = X.shape\n",
    "n = list(df.nunique())\n",
    "X, ordinal, n, d"
   ]
  },
  {
   "cell_type": "code",
   "execution_count": 32,
   "metadata": {},
   "outputs": [
    {
     "output_type": "stream",
     "name": "stderr",
     "text": [
      "ipykernel_launcher:31: RuntimeWarning: divide by zero encountered in log2\nipykernel_launcher:31: RuntimeWarning: invalid value encountered in multiply\nipykernel_launcher:40: RuntimeWarning: divide by zero encountered in log2\nipykernel_launcher:40: RuntimeWarning: invalid value encountered in multiply\n"
     ]
    }
   ],
   "source": [
    "R = np.zeros((d, d))\n",
    "psi = [np.zeros((d, n[r], n[r])) for r in range(d)]\n",
    "phi = [np.zeros((n[r], n[r])) for r in range(d)]\n",
    "Z = N*(N-1)/2\n",
    "for r in range(d):\n",
    "    for s in range(d):\n",
    "        # ------------------------------------\n",
    "        # Calculate interdependence measure R.\n",
    "        C = np.zeros((n[r], n[s]), dtype=int); C_eq = 0; C_diff = 0      \n",
    "        for i in range(N): # Iterate through samples.\n",
    "            C[X[i,r], X[i,s]] += 1 # Counts for feature pairings.\n",
    "            if ordinal[r] and ordinal[s]: # If both r and s are ordinal.   \n",
    "                for j in range(i): # Iterate through samples before i.\n",
    "                    if X[i,r] == X[j,r] and X[i,s] == X[j,s]: C_eq += 1 # i,j equal on both features.\n",
    "                    elif (X[i,r] > X[j,r] and X[i,s] > X[j,s]) or (X[i,r] < X[j,r] and X[i,s] < X[j,s]): C_diff += 1 # Direction of difference is the same.\n",
    "                    elif (X[i,r] > X[j,r] and X[i,s] < X[j,s]) or (X[i,r] < X[j,r] and X[i,s] > X[j,s]): C_diff -= 1 # Direction of difference is opposite.\n",
    "                C_diff = abs(C_diff) # Just need absolute value of net difference.  \n",
    "        if not (ordinal[r] and ordinal[s]): # If at least one of r and s is nominal.\n",
    "            C_eq = np.maximum(C-1, 0).sum() # Quick way of computing number of sample pairs equal on both features.\n",
    "            for t in range(n[r]):\n",
    "                for h in range(t):\n",
    "                    for g in range(n[s]):\n",
    "                        for u in range(g):\n",
    "                            C_diff += abs((C[t,g] * C[h,u]) - (C[t,u] * C[h,g]))\n",
    "        R[r,s] = (C_eq + C_diff) / Z # Final calculation to get R.     \n",
    "        # -------------------------------------   \n",
    "        # Calculate entropy-based distance psi.  \n",
    "        P = C / N; S_A_s = np.log2(n[s])\n",
    "        if ordinal[r]: # If r is ordinal.\n",
    "            for t in range(1,n[r]): # Adjacent only.\n",
    "                psi[r][s,t,t-1] = np.nansum(-(P[t] + P[t-1]) * np.log2(P[t] + P[t-1])) / S_A_s # Normalised entropy of summed joint distributions.                    \n",
    "            for t in range(1,n[r]): # Fill in remaining by summation.\n",
    "                for h in range(t-1):\n",
    "                    for g in range(h, t):\n",
    "                        psi[r][s,t,h] += psi[r][s,g+1,g]\n",
    "            psi[r][s] += psi[r][s].T # Symmetric.        \n",
    "        else: # If r is nominal.\n",
    "            for t in range(n[r]):\n",
    "                for h in range(t): \n",
    "                    psi[r][s,t,h] = psi[r][s,h,t] = np.nansum(-(P[t] + P[h]) * np.log2(P[t] + P[h])) / S_A_s # Normalised entropy of summed joint distributions.\n",
    "        # ------------------------------------------\n",
    "        # Add to overall per-feature distance phi.\n",
    "        phi[r] += R[r,s] * psi[r][s] / d\n",
    "\n",
    "def dist(xi, xj): return np.linalg.norm([phi[r][xir,xjr] for r, (xir, xjr) in enumerate(zip(xi, xj))])"
   ]
  },
  {
   "cell_type": "code",
   "execution_count": 37,
   "metadata": {},
   "outputs": [
    {
     "output_type": "execute_result",
     "data": {
      "text/plain": [
       "0.8904916804946172"
      ]
     },
     "metadata": {},
     "execution_count": 37
    }
   ],
   "source": [
    "dist([0,0,0],[1,1,1])"
   ]
  }
 ]
}