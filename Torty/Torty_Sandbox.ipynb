{
 "cells": [
  {
   "cell_type": "markdown",
   "id": "7d6b7dcd",
   "metadata": {},
   "source": [
    "## Notes\n",
    "\n",
    "Edge weight = feasbility + actionability\n",
    "\n",
    "where,\n",
    "\n",
    "feasbility: statistical - how easy is it to get from data point A to data point B. Modelled by some distance measure (and density estimation)\n",
    "\n",
    "\n",
    "actionability: something subjective - how easy is it for individual A to become individual B\n",
    "(modelled by user specified constraints)\n"
   ]
  },
  {
   "cell_type": "code",
   "execution_count": null,
   "id": "4154b9cd",
   "metadata": {},
   "outputs": [],
   "source": []
  }
 ],
 "metadata": {
  "kernelspec": {
   "display_name": "Python 3",
   "language": "python",
   "name": "python3"
  },
  "language_info": {
   "codemirror_mode": {
    "name": "ipython",
    "version": 3
   },
   "file_extension": ".py",
   "mimetype": "text/x-python",
   "name": "python",
   "nbconvert_exporter": "python",
   "pygments_lexer": "ipython3",
   "version": "3.7.3"
  }
 },
 "nbformat": 4,
 "nbformat_minor": 5
}
